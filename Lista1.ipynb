{
  "nbformat": 4,
  "nbformat_minor": 0,
  "metadata": {
    "colab": {
      "provenance": [],
      "authorship_tag": "ABX9TyOHiJy6HEAV3yMl+giAu8RR"
    },
    "kernelspec": {
      "name": "python3",
      "display_name": "Python 3"
    },
    "language_info": {
      "name": "python"
    }
  },
  "cells": [
    {
      "cell_type": "code",
      "source": [
        "# 1. Faça um programa que mostre o seu primeiro nome na tela\n",
        "\n",
        "print(input('Digite seu primeiro nome: '))"
      ],
      "metadata": {
        "colab": {
          "base_uri": "https://localhost:8080/"
        },
        "id": "hp438i4HbbFk",
        "outputId": "0eb56b42-0199-483d-b29b-be731e0526b3"
      },
      "execution_count": null,
      "outputs": [
        {
          "output_type": "stream",
          "name": "stdout",
          "text": [
            "Digite seu primeiro nome: a\n",
            "a\n"
          ]
        }
      ]
    },
    {
      "cell_type": "code",
      "source": [
        "# 2. Faça um programa que pede o primeiro nome do usuário e um sobrenome e mostra os dois digitados na tela\n",
        "\n",
        "nome = input('Digite seu primeiro nome: ')\n",
        "sobrenome = input('Digite um sobrenome seu: ')\n",
        "print(f'{nome} {sobrenome}')"
      ],
      "metadata": {
        "colab": {
          "base_uri": "https://localhost:8080/"
        },
        "id": "Hf8sGODgbcpZ",
        "outputId": "49320481-3eae-4e50-a8e6-f63562e7a481"
      },
      "execution_count": null,
      "outputs": [
        {
          "output_type": "stream",
          "name": "stdout",
          "text": [
            "Digite seu primeiro nome: a\n",
            "Digite um sobrenome seu: b\n",
            "a b\n"
          ]
        }
      ]
    },
    {
      "cell_type": "code",
      "source": [
        "# 3. Faça um programa que mostra um X bem grande na tela, utilizando o print (um ou mais vezes).\n",
        "# Desafio é fazer essa tarefa em um único print\n",
        "\n",
        "print('x      x\\n x    x\\n  x  x\\n   x\\n  x  x\\n x    x\\nx      x')"
      ],
      "metadata": {
        "colab": {
          "base_uri": "https://localhost:8080/"
        },
        "id": "Q8X1_orcbcuj",
        "outputId": "d7cb94ae-d6a6-4cf0-f880-fb90b27da5ff"
      },
      "execution_count": null,
      "outputs": [
        {
          "output_type": "stream",
          "name": "stdout",
          "text": [
            "x      x\n",
            " x    x\n",
            "  x  x\n",
            "   xx\n",
            "  x  x\n",
            " x    x\n",
            "x      x\n"
          ]
        }
      ]
    },
    {
      "cell_type": "code",
      "source": [
        "# 4. Faça um rpograma que pede o dia e o mês de aniversário e diz quantos dias faltam para o aniversário, quantos dias se passaram do aniversário ou se hoje é o aniversário do usuário\n",
        "\n",
        "dia = int(input('Digite o dia do seu aniversário: '))\n",
        "mes = int(input('Digite o mês do seu aniversário: '))\n",
        "m = 'm'\n",
        "s = 's'\n",
        "\n",
        "if mes == 1:\n",
        "    diff_dias = 60 + 32 - dia\n",
        "    print(f\"Passaram {diff_dias} de seu aniversário!\")\n",
        "elif mes == 2:\n",
        "    diff_dias = 32 + 29 - dia\n",
        "    print(f\"Passaram {diff_dias} de seu aniversário!\")\n",
        "elif mes == 3:\n",
        "    diff_dias = 33 - dia\n",
        "    print(f\"Passaram {diff_dias} de seu aniversário!\")\n",
        "elif mes == 4:\n",
        "    diff_dias = dia - 2\n",
        "    if diff_dias == 1:\n",
        "        m = ''\n",
        "        s = ''\n",
        "\n",
        "    if diff_dias == 0:\n",
        "        print('Feliz aniversário!')\n",
        "    elif diff_dias > 0:\n",
        "        print(f'Falta{m} {diff_dias} dia{s} para seu aniversário!')\n",
        "    else:\n",
        "        print(f'Passou {-1 * diff_dias} dia de seu aniversário!')\n",
        "elif mes == 5:\n",
        "    dias_faltantes = 28 + dia\n",
        "    print(f'Faltam {dias_faltantes} dias para o seu aniversário!')\n",
        "elif mes == 6:\n",
        "    dias_faltantes = 59 + dia\n",
        "    print(f'Faltam {dias_faltantes} dias para o seu aniversário!')\n",
        "elif mes == 7:\n",
        "    dias_faltantes = 89 + dia\n",
        "    print(f'Faltam {dias_faltantes} dias para o seu aniversário!')\n",
        "elif mes == 8:\n",
        "    dias_faltantes = 120 + dia\n",
        "    print(f'Faltam {dias_faltantes} dias para o seu aniversário!')\n",
        "elif mes == 9:\n",
        "    dias_faltantes = 151 + dia\n",
        "    print(f'Faltam {dias_faltantes} dias para o seu aniversário!')\n",
        "elif mes == 10:\n",
        "    dias_faltantes = 181 + dia\n",
        "    print(f'Faltam {dias_faltantes} dias para o seu aniversário!')\n",
        "elif mes == 11:\n",
        "    dias_faltantes = 212 + dia\n",
        "    print(f'Faltam {dias_faltantes} dias para o seu aniversário!')\n",
        "elif mes == 12:\n",
        "    dias_faltantes = 242 + dia\n",
        "    print(f'Faltam {dias_faltantes} dias para o seu aniversário!')\n"
      ],
      "metadata": {
        "colab": {
          "base_uri": "https://localhost:8080/"
        },
        "id": "yAI1L3Gkbc1q",
        "outputId": "09aac05c-3da7-4008-9a7d-ee8934c6bbc5"
      },
      "execution_count": null,
      "outputs": [
        {
          "output_type": "stream",
          "name": "stdout",
          "text": [
            "Digite o dia do seu aniversário: 15\n",
            "Digite o mês do seu aniversário: 7\n",
            "Faltam 104 dias para o seu aniversário!\n"
          ]
        }
      ]
    },
    {
      "cell_type": "code",
      "execution_count": null,
      "metadata": {
        "colab": {
          "base_uri": "https://localhost:8080/"
        },
        "id": "Vt2yLlxfjGep",
        "outputId": "94dc9301-07c6-4595-8f65-647b197d1f7b"
      },
      "outputs": [
        {
          "output_type": "stream",
          "name": "stdout",
          "text": [
            "Preço original do produto: R$10\n",
            "O preço original do produto é 10.0 reais.\n",
            "Seu desconto foi de 2.0 reais.\n",
            "O valor do produto com o desconto é de 8.0 reais.\n"
          ]
        }
      ],
      "source": [
        "# 5. Sua tarefa é criar um programa em Python que pede o preço original de um produto e dá 20% de desconto\n",
        "\n",
        "preco = float(input(\"Preço original do produto: R$\"))\n",
        "desc = preco*0.2\n",
        "preco1 = preco-desc\n",
        "print(f'O preço original do produto é {preco} reais.')\n",
        "print(f'Seu desconto foi de {desc} reais.')\n",
        "print(f'O valor do produto com o desconto é de {preco1} reais.')\n"
      ]
    },
    {
      "cell_type": "code",
      "source": [
        "# 6. Generalize o problema anterior, perguntando a porcentagem de desconto e mostrando os mesmos dados acima\n",
        "\n",
        "preco = float(input(\"Preço original do produto: R$\"))\n",
        "porc = int(input(\"A porcentagem de desconto é: \"))\n",
        "porcent = porc / 100\n",
        "desc = preco*porcent\n",
        "preco1 = preco-desc\n",
        "print(f'O preço original do produto é {preco} reais.')\n",
        "print(f'Seu desconto foi de {desc} reais.')\n",
        "print(f'O valor do produto com o desconto é de {preco1} reais.')\n"
      ],
      "metadata": {
        "colab": {
          "base_uri": "https://localhost:8080/"
        },
        "id": "dhZdkHjOjG3q",
        "outputId": "3ac90238-45b3-4fd7-c552-817e2ddd4534"
      },
      "execution_count": null,
      "outputs": [
        {
          "output_type": "stream",
          "name": "stdout",
          "text": [
            "Preço original do produto: R$10\n",
            "A porcentagem de desconto é: 20\n",
            "O preço original do produto é 10.0 reais.\n",
            "Seu desconto foi de 2.0 reais.\n",
            "O valor do produto com o desconto é de 8.0 reais.\n"
          ]
        }
      ]
    },
    {
      "cell_type": "code",
      "source": [
        "# 7. Faça um programa que peça 3 valores e calcula sua média aritmética simples, mostrando esse resultado na tela\n",
        "\n",
        "valor1 = float(input(\"Digite um valor: \"))\n",
        "valor2 = float(input(\"Digite novamente um valor: \"))\n",
        "valor3 = float(input(\"Digite um terceiro valor: \"))\n",
        "media = (valor1+valor2+valor3) / 3\n",
        "print(f'A média aritmética dos três valores digitados é {media}.')"
      ],
      "metadata": {
        "colab": {
          "base_uri": "https://localhost:8080/"
        },
        "id": "n4HVIf9zjG6Z",
        "outputId": "00841877-25d1-4838-eac7-f0612ef7b7f0"
      },
      "execution_count": null,
      "outputs": [
        {
          "output_type": "stream",
          "name": "stdout",
          "text": [
            "Digite um valor: 3.5\n",
            "Digite novamente um valor: 4\n",
            "Digite um terceiro valor: 4.5\n",
            "A média aritmética dos três valores digitados é 4.0.\n"
          ]
        }
      ]
    },
    {
      "cell_type": "code",
      "source": [
        "# 8. Faça um programa que peça 4 valores positivos e calcula:\n",
        "# a. A média aritmética simples\n",
        "# b. A média geométrica\n",
        "# c. A média harmônica\n",
        "\n",
        "valor1 = int(input(\"Digite um valor positivo: \"))\n",
        "valor2 = int(input(\"Digite novamente um valor positivo: \"))\n",
        "valor3 = int(input(\"Digite um terceiro valor positivo: \"))\n",
        "valor4 = int(input(\"Digite um quarto valor positivo: \"))\n",
        "media = (valor1+valor2+valor3+valor4) / 4\n",
        "print(f'A média aritmética dos quatro valores é {media}.')\n",
        "media1 = (valor1*valor2*valor3*valor4) ** 1 / 4\n",
        "print(f'A média geométrica dos quatro valores é {media1}.')\n",
        "media2 = 4 / ((1 / valor1) + (1 / valor2) + (1 / valor3) + (1 / valor4))\n",
        "print(f'A média harmônica dos quatro valores é {media2}.')"
      ],
      "metadata": {
        "colab": {
          "base_uri": "https://localhost:8080/"
        },
        "id": "qn4nbQx-jG9J",
        "outputId": "65364094-c283-48de-949c-afbf196fb0ef"
      },
      "execution_count": null,
      "outputs": [
        {
          "output_type": "stream",
          "name": "stdout",
          "text": [
            "Digite um valor positivo: 1\n",
            "Digite novamente um valor positivo: 2\n",
            "Digite um terceiro valor positivo: 3\n",
            "Digite um quarto valor positivo: 4\n",
            "A média aritmética dos quatro valores é 2.5.\n",
            "A média geométrica dos quatro valores é 6.0.\n",
            "A média harmônica dos quatro valores é 1.9200000000000004.\n"
          ]
        }
      ]
    },
    {
      "cell_type": "code",
      "source": [
        "# 9. Faça um programa que peça 4 números reais e calcula:\n",
        "# a. A média aritmética simples\n",
        "# b. A variância desses dados\n",
        "# c. O desvio padrão desses dados\n",
        "\n",
        "valor1 = float(input(\"Digite um número real: \"))\n",
        "valor2 = float(input(\"Digite novamente um número real: \"))\n",
        "valor3 = float(input(\"Digite um terceiro número real: \"))\n",
        "valor4 = float(input(\"Digite um quarto número real: \"))\n",
        "media = (valor1+valor2+valor3+valor4) / 4\n",
        "print(f'A média aritmética dos quatro valores é {media}.')\n",
        "var = ((valor1 - media) ** 2) + ((valor2 - media) ** 2) + ((valor3 - media) ** 2) + ((valor4 - media) ** 2)\n",
        "media1 = var/4\n",
        "var1 = var/3\n",
        "print(f'A variância populacional dos quatro valores é {media1}.')\n",
        "print(f'A variância amostral dos quatro valores é {var1}.')\n",
        "media2 = media1 ** (1/2)\n",
        "dp = var1 ** (1/2)\n",
        "print(f'O desvio padrão populacional dos quatro valores é {media2}.')\n",
        "print(f'O desvio padrão amostral dos quatro valores é {dp}.')\n"
      ],
      "metadata": {
        "id": "S8v3lYbSjG_x",
        "colab": {
          "base_uri": "https://localhost:8080/"
        },
        "outputId": "4070bcdd-263c-4f8b-f224-9b44d6c71c7c"
      },
      "execution_count": null,
      "outputs": [
        {
          "output_type": "stream",
          "name": "stdout",
          "text": [
            "Digite um número real: 12\n",
            "Digite novamente um número real: 23\n",
            "Digite um terceiro número real: 45\n",
            "Digite um quarto número real: 60\n",
            "A média aritmética dos quatro valores é 35.0.\n",
            "A variância populacional dos quatro valores é 349.5.\n",
            "A variância amostral dos quatro valores é 466.0.\n",
            "O desvio padrão populacional dos quatro valores é 18.694919095839918.\n",
            "O desvio padrão amostral dos quatro valores é 21.587033144922902.\n"
          ]
        }
      ]
    },
    {
      "cell_type": "code",
      "source": [
        "# 10. Faça um programa que, dados 3 números inteiros, mostre na tela o maior deles\n",
        "\n",
        "valor1 = int(input(\"Digite um número inteiro: \"))\n",
        "valor2 = int(input(\"Digite novamente um número inteiro: \"))\n",
        "valor3 = int(input(\"Digite um terceiro número inteiro: \"))\n",
        "if valor1 > valor2 and valor1 > valor3:\n",
        "    print(f\"O maior número, dentre os digitados, é o {valor1}.\")\n",
        "elif valor2 > valor1 and valor2 > valor3:\n",
        "    print(f\"O maior número, dentre os digitados, é o {valor2}.\")\n",
        "elif valor3 > valor1 and valor3 > valor2:\n",
        "    print(f\"O maior número, dentre os digitados, é o {valor3}.\")"
      ],
      "metadata": {
        "colab": {
          "base_uri": "https://localhost:8080/"
        },
        "id": "j4lt4lZDGpSo",
        "outputId": "463a5fa0-de99-4aea-caf9-40315ce41fc1"
      },
      "execution_count": null,
      "outputs": [
        {
          "output_type": "stream",
          "name": "stdout",
          "text": [
            "Digite um número inteiro: 3\n",
            "Digite novamente um número inteiro: 7\n",
            "Digite um terceiro número inteiro: 0\n",
            "O maior número, dentre os digitados, é o 7.\n"
          ]
        }
      ]
    },
    {
      "cell_type": "code",
      "source": [
        "# 11. Faça um programa que, dados 3 números inteiros, mostre na tela esses números em ordem crescente\n",
        "\n",
        "valor1 = int(input(\"Digite um número inteiro: \"))\n",
        "valor2 = int(input(\"Digite novamente um número inteiro: \"))\n",
        "valor3 = int(input(\"Digite um terceiro número inteiro: \"))\n",
        "if valor1 < valor2 and valor1 < valor3:\n",
        "    if valor2 < valor3:\n",
        "        print(f'Ordem crescente: {valor1}, {valor2}, {valor3}.')\n",
        "    else:\n",
        "        print(f'Ordem crescente: {valor1}, {valor3}, {valor2}.')\n",
        "if valor2 < valor1 and valor2 < valor3:\n",
        "    if valor1 < valor3:\n",
        "        print(f'Ordem crescente: {valor2}, {valor1}, {valor3}.')\n",
        "    else:\n",
        "        print(f'Ordem crescente: {valor2}, {valor3}, {valor1}.')\n",
        "if valor3 < valor1 and valor3 < valor2:\n",
        "    if valor1 < valor2:\n",
        "        print(f'Ordem crescente: {valor3}, {valor1}, {valor2}.')\n",
        "    else:\n",
        "        print(f'Ordem crescente: {valor3}, {valor2}, {valor1}.')"
      ],
      "metadata": {
        "id": "dLQUqZMcu4lf",
        "colab": {
          "base_uri": "https://localhost:8080/"
        },
        "outputId": "27e6b533-40a3-4919-ab48-7e376f8a35d9"
      },
      "execution_count": null,
      "outputs": [
        {
          "output_type": "stream",
          "name": "stdout",
          "text": [
            "Digite um número inteiro: 2\n",
            "Digite novamente um número inteiro: 9\n",
            "Digite um terceiro número inteiro: 5\n",
            "Ordem crescente: 2, 5, 9.\n"
          ]
        }
      ]
    },
    {
      "cell_type": "code",
      "source": [
        "# 12. Faça um programa que, dados 3 strings, mostra essas strings em ordem alfabética\n",
        "\n",
        "letra1 = input(\"Digite uma letra: \")\n",
        "letra2 = input(\"Digite novamente uma letra: \")\n",
        "letra3 = input(\"Digite uma terceira letra: \")\n",
        "if letra1 < letra2 and letra1 < letra3:\n",
        "    if letra2 < letra3:\n",
        "        print(f'Ordem alfabética: {letra1}, {letra2}, {letra3}.')\n",
        "    else:\n",
        "        print(f'Ordem alfabética: {letra1}, {letra3}, {letra2}.')\n",
        "if letra2 < letra1 and letra2 < letra3:\n",
        "    if letra1 < letra3:\n",
        "        print(f'Ordem alfabética: {letra2}, {letra1}, {letra3}.')\n",
        "    else:\n",
        "        print(f'Ordem alfabética: {letra2}, {letra3}, {valor1}.')\n",
        "if letra3 < letra1 and letra3 < letra2:\n",
        "    if letra1 < letra2:\n",
        "        print(f'Ordem alfabética: {letra3}, {letra1}, {letra2}.')\n",
        "    else:\n",
        "        print(f'Ordem alfabética: {letra3}, {letra2}, {letra1}.')"
      ],
      "metadata": {
        "colab": {
          "base_uri": "https://localhost:8080/"
        },
        "id": "ZYvT9WCIvg3O",
        "outputId": "cccf03e2-a85b-4194-e2b6-41c468aa876c"
      },
      "execution_count": null,
      "outputs": [
        {
          "output_type": "stream",
          "name": "stdout",
          "text": [
            "Digite uma letra: K\n",
            "Digite novamente uma letra: T\n",
            "Digite uma terceira letra: B\n",
            "Ordem alfabética: B, K, T.\n"
          ]
        }
      ]
    },
    {
      "cell_type": "code",
      "source": [
        "# 13. Faça um programa que peça a informação se o usuário é homem ou mulher, o peso, a altura e a idade e mostre na tela o TMB em calorias.\n",
        "# A Taxa Metabólica Basal (TMB) é a quantidade mínima de energia que o corpo precisa para manter as funções vitais, como respiração, circulação e temperatura corporal, em repouso. A TMB representa cerca de 60% a 70% do gasto energético total diário de uma pessoa e varia de acordo com o sexo, a idade, o peso e a altura.\n",
        "\n",
        "    #Para calcular a TMB manualmente, você deve usar as seguintes fórmulas da equação de Harris-Benedict:\n",
        "\n",
        "    #Para homens: TMB = 66,47 + (13,75 x peso em kg) + (5,003 x altura em cm) - (6,755 x idade em anos)\n",
        "\n",
        "    #Para mulheres: TMB = 655,09 + (9,563 x peso em kg) + (1,85 x altura em cm) - (4,676 x idade em anos)\n",
        "\n",
        "genero = input(\"Digite homem se você for homem e mulher se você for mulher: \")\n",
        "peso = int(input(\"Digite seu peso em kg: \"))\n",
        "altura = int(input(\"Digite sua altura em cm: \"))\n",
        "idade = int(input(\"Digite sua idade em anos: \"))\n",
        "\n",
        "tmbh = 66.47 + (13.75 * peso) + (5.003 * altura) - (6.755 * idade)\n",
        "tmbm = 655.09 + (9.563 * peso) + (1.85 * altura) - (4.676 * idade)\n",
        "if genero == 'homem' or genero == 'Homem':\n",
        "    print(f'Seu TMB é {tmbh}.')\n",
        "elif genero == 'mulher' or genero == 'Mulher':\n",
        "    print(f'Seu TMB é {tmbm}.')\n"
      ],
      "metadata": {
        "id": "MZpRjsB0xP_y",
        "colab": {
          "base_uri": "https://localhost:8080/"
        },
        "outputId": "61155799-72a1-4a91-b96c-2e2b0485bc2e"
      },
      "execution_count": null,
      "outputs": [
        {
          "output_type": "stream",
          "name": "stdout",
          "text": [
            "Digite homem se você for homem e mulher se você for mulher: Mulher\n",
            "Digite seu peso em kg: 40\n",
            "Digite sua altura em cm: 160\n",
            "Digite sua idade em anos: 30\n",
            "Seu TMB é 1193.3300000000002.\n"
          ]
        }
      ]
    },
    {
      "cell_type": "code",
      "source": [
        "# 14. Faça um programa que peça um número inteiro para o usuário e mostra a tabuada desse número\n",
        "\n",
        "tab = int(input('Qual tabuada quer visualizar?: '))\n",
        "\n",
        "print(f'{tab} x {1:2d} = {tab * 1:3d}')\n",
        "print(f'{tab} x {2:2d} = {tab * 2:3d}')\n",
        "print(f'{tab} x {3:2d} = {tab * 3:3d}')\n",
        "print(f'{tab} x {4:2d} = {tab * 4:3d}')\n",
        "print(f'{tab} x {5:2d} = {tab * 5:3d}')\n",
        "print(f'{tab} x {6:2d} = {tab * 6:3d}')\n",
        "print(f'{tab} x {7:2d} = {tab * 7:3d}')\n",
        "print(f'{tab} x {8:2d} = {tab * 8:3d}')\n",
        "print(f'{tab} x {9:2d} = {tab * 9:3d}')\n",
        "print(f'{tab} x {10:2d} = {tab * 10:3d}')"
      ],
      "metadata": {
        "id": "J0MEgFDzLQsY",
        "colab": {
          "base_uri": "https://localhost:8080/"
        },
        "outputId": "4991456e-51c6-4e1c-d6c4-4f4f6d8350a5"
      },
      "execution_count": null,
      "outputs": [
        {
          "output_type": "stream",
          "name": "stdout",
          "text": [
            "Qual tabuada quer visualizar?: -6\n",
            "-6 x +1 =  -6\n",
            "-6 x +2 = -12\n",
            "-6 x +3 = -18\n",
            "-6 x +4 = -24\n",
            "-6 x +5 = -30\n",
            "-6 x +6 = -36\n",
            "-6 x +7 = -42\n",
            "-6 x +8 = -48\n",
            "-6 x +9 = -54\n",
            "-6 x +10 = -60\n"
          ]
        }
      ]
    }
  ]
}
